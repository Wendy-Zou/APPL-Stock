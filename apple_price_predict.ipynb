{
 "cells": [
  {
   "cell_type": "code",
   "execution_count": 1,
   "id": "e962360a",
   "metadata": {},
   "outputs": [],
   "source": [
    "import pandas as pd\n",
    "import matplotlib.pyplot as plt\n",
    "import seaborn as sns\n",
    "from sklearn import metrics"
   ]
  },
  {
   "cell_type": "code",
   "execution_count": 2,
   "id": "125ed706",
   "metadata": {},
   "outputs": [],
   "source": [
    "stock = pd.read_csv('AAPL.csv')"
   ]
  },
  {
   "cell_type": "code",
   "execution_count": 3,
   "id": "e7a9c650",
   "metadata": {},
   "outputs": [
    {
     "name": "stdout",
     "output_type": "stream",
     "text": [
      "<class 'pandas.core.frame.DataFrame'>\n",
      "RangeIndex: 10791 entries, 0 to 10790\n",
      "Data columns (total 8 columns):\n",
      " #   Column          Non-Null Count  Dtype  \n",
      "---  ------          --------------  -----  \n",
      " 0   Date            10791 non-null  object \n",
      " 1   Open            10791 non-null  float64\n",
      " 2   High            10791 non-null  float64\n",
      " 3   Low             10791 non-null  float64\n",
      " 4   Close           10791 non-null  float64\n",
      " 5   Day Difference  10791 non-null  float64\n",
      " 6   Adj Close       10791 non-null  float64\n",
      " 7   Volume          10791 non-null  float64\n",
      "dtypes: float64(7), object(1)\n",
      "memory usage: 674.6+ KB\n"
     ]
    }
   ],
   "source": [
    "stock.info() # date is a string"
   ]
  },
  {
   "cell_type": "code",
   "execution_count": 4,
   "id": "5893e2d3",
   "metadata": {},
   "outputs": [],
   "source": [
    "stock['Date'] = pd.to_datetime(stock['Date'], format = '%d-%m-%Y') #convert date to datetime"
   ]
  },
  {
   "cell_type": "code",
   "execution_count": 5,
   "id": "af90ead1",
   "metadata": {},
   "outputs": [
    {
     "data": {
      "text/html": [
       "<div>\n",
       "<style scoped>\n",
       "    .dataframe tbody tr th:only-of-type {\n",
       "        vertical-align: middle;\n",
       "    }\n",
       "\n",
       "    .dataframe tbody tr th {\n",
       "        vertical-align: top;\n",
       "    }\n",
       "\n",
       "    .dataframe thead th {\n",
       "        text-align: right;\n",
       "    }\n",
       "</style>\n",
       "<table border=\"1\" class=\"dataframe\">\n",
       "  <thead>\n",
       "    <tr style=\"text-align: right;\">\n",
       "      <th></th>\n",
       "      <th>Date</th>\n",
       "      <th>Open</th>\n",
       "      <th>High</th>\n",
       "      <th>Low</th>\n",
       "      <th>Close</th>\n",
       "      <th>Day Difference</th>\n",
       "      <th>Adj Close</th>\n",
       "      <th>Volume</th>\n",
       "    </tr>\n",
       "  </thead>\n",
       "  <tbody>\n",
       "    <tr>\n",
       "      <th>0</th>\n",
       "      <td>1980-12-12</td>\n",
       "      <td>0.128348</td>\n",
       "      <td>0.128906</td>\n",
       "      <td>0.128348</td>\n",
       "      <td>0.128348</td>\n",
       "      <td>0.00000</td>\n",
       "      <td>0.099450</td>\n",
       "      <td>469033600.0</td>\n",
       "    </tr>\n",
       "    <tr>\n",
       "      <th>1</th>\n",
       "      <td>1980-12-15</td>\n",
       "      <td>0.122210</td>\n",
       "      <td>0.122210</td>\n",
       "      <td>0.121652</td>\n",
       "      <td>0.121652</td>\n",
       "      <td>-0.00056</td>\n",
       "      <td>0.094261</td>\n",
       "      <td>175884800.0</td>\n",
       "    </tr>\n",
       "    <tr>\n",
       "      <th>2</th>\n",
       "      <td>1980-12-16</td>\n",
       "      <td>0.113281</td>\n",
       "      <td>0.113281</td>\n",
       "      <td>0.112723</td>\n",
       "      <td>0.112723</td>\n",
       "      <td>-0.00056</td>\n",
       "      <td>0.087343</td>\n",
       "      <td>105728000.0</td>\n",
       "    </tr>\n",
       "    <tr>\n",
       "      <th>3</th>\n",
       "      <td>1980-12-17</td>\n",
       "      <td>0.115513</td>\n",
       "      <td>0.116071</td>\n",
       "      <td>0.115513</td>\n",
       "      <td>0.115513</td>\n",
       "      <td>0.00000</td>\n",
       "      <td>0.089504</td>\n",
       "      <td>86441600.0</td>\n",
       "    </tr>\n",
       "    <tr>\n",
       "      <th>4</th>\n",
       "      <td>1980-12-18</td>\n",
       "      <td>0.118862</td>\n",
       "      <td>0.119420</td>\n",
       "      <td>0.118862</td>\n",
       "      <td>0.118862</td>\n",
       "      <td>0.00000</td>\n",
       "      <td>0.092099</td>\n",
       "      <td>73449600.0</td>\n",
       "    </tr>\n",
       "    <tr>\n",
       "      <th>...</th>\n",
       "      <td>...</td>\n",
       "      <td>...</td>\n",
       "      <td>...</td>\n",
       "      <td>...</td>\n",
       "      <td>...</td>\n",
       "      <td>...</td>\n",
       "      <td>...</td>\n",
       "      <td>...</td>\n",
       "    </tr>\n",
       "    <tr>\n",
       "      <th>10786</th>\n",
       "      <td>2023-09-26</td>\n",
       "      <td>174.820007</td>\n",
       "      <td>175.199997</td>\n",
       "      <td>171.660004</td>\n",
       "      <td>171.960007</td>\n",
       "      <td>-2.86000</td>\n",
       "      <td>171.960007</td>\n",
       "      <td>64588900.0</td>\n",
       "    </tr>\n",
       "    <tr>\n",
       "      <th>10787</th>\n",
       "      <td>2023-09-27</td>\n",
       "      <td>172.619995</td>\n",
       "      <td>173.039993</td>\n",
       "      <td>169.050003</td>\n",
       "      <td>170.429993</td>\n",
       "      <td>-2.19000</td>\n",
       "      <td>170.429993</td>\n",
       "      <td>66921800.0</td>\n",
       "    </tr>\n",
       "    <tr>\n",
       "      <th>10788</th>\n",
       "      <td>2023-09-28</td>\n",
       "      <td>169.339996</td>\n",
       "      <td>172.029999</td>\n",
       "      <td>167.619995</td>\n",
       "      <td>170.690002</td>\n",
       "      <td>1.35001</td>\n",
       "      <td>170.690002</td>\n",
       "      <td>56294400.0</td>\n",
       "    </tr>\n",
       "    <tr>\n",
       "      <th>10789</th>\n",
       "      <td>2023-09-29</td>\n",
       "      <td>172.020004</td>\n",
       "      <td>173.070007</td>\n",
       "      <td>170.339996</td>\n",
       "      <td>171.210007</td>\n",
       "      <td>-0.81000</td>\n",
       "      <td>171.210007</td>\n",
       "      <td>51814200.0</td>\n",
       "    </tr>\n",
       "    <tr>\n",
       "      <th>10790</th>\n",
       "      <td>2023-10-02</td>\n",
       "      <td>171.220001</td>\n",
       "      <td>174.300003</td>\n",
       "      <td>170.929993</td>\n",
       "      <td>173.750000</td>\n",
       "      <td>2.53000</td>\n",
       "      <td>173.750000</td>\n",
       "      <td>52115400.0</td>\n",
       "    </tr>\n",
       "  </tbody>\n",
       "</table>\n",
       "<p>10791 rows × 8 columns</p>\n",
       "</div>"
      ],
      "text/plain": [
       "            Date        Open        High         Low       Close  \\\n",
       "0     1980-12-12    0.128348    0.128906    0.128348    0.128348   \n",
       "1     1980-12-15    0.122210    0.122210    0.121652    0.121652   \n",
       "2     1980-12-16    0.113281    0.113281    0.112723    0.112723   \n",
       "3     1980-12-17    0.115513    0.116071    0.115513    0.115513   \n",
       "4     1980-12-18    0.118862    0.119420    0.118862    0.118862   \n",
       "...          ...         ...         ...         ...         ...   \n",
       "10786 2023-09-26  174.820007  175.199997  171.660004  171.960007   \n",
       "10787 2023-09-27  172.619995  173.039993  169.050003  170.429993   \n",
       "10788 2023-09-28  169.339996  172.029999  167.619995  170.690002   \n",
       "10789 2023-09-29  172.020004  173.070007  170.339996  171.210007   \n",
       "10790 2023-10-02  171.220001  174.300003  170.929993  173.750000   \n",
       "\n",
       "       Day Difference   Adj Close       Volume  \n",
       "0             0.00000    0.099450  469033600.0  \n",
       "1            -0.00056    0.094261  175884800.0  \n",
       "2            -0.00056    0.087343  105728000.0  \n",
       "3             0.00000    0.089504   86441600.0  \n",
       "4             0.00000    0.092099   73449600.0  \n",
       "...               ...         ...          ...  \n",
       "10786        -2.86000  171.960007   64588900.0  \n",
       "10787        -2.19000  170.429993   66921800.0  \n",
       "10788         1.35001  170.690002   56294400.0  \n",
       "10789        -0.81000  171.210007   51814200.0  \n",
       "10790         2.53000  173.750000   52115400.0  \n",
       "\n",
       "[10791 rows x 8 columns]"
      ]
     },
     "execution_count": 5,
     "metadata": {},
     "output_type": "execute_result"
    }
   ],
   "source": [
    "stock"
   ]
  },
  {
   "cell_type": "code",
   "execution_count": 6,
   "id": "6c55e5d9",
   "metadata": {},
   "outputs": [],
   "source": [
    "stock['Year'] = stock['Date'].dt.year # get the year from date column and create a new year column"
   ]
  },
  {
   "cell_type": "code",
   "execution_count": 7,
   "id": "a177ad12",
   "metadata": {},
   "outputs": [],
   "source": [
    "stock['Year'] = pd.to_numeric(stock['Year'], downcast = 'integer') # convert year to integer"
   ]
  },
  {
   "cell_type": "code",
   "execution_count": 8,
   "id": "f90f7ead",
   "metadata": {},
   "outputs": [],
   "source": [
    "stock = stock.drop(columns = 'Date') #drop the date column\n",
    "\n",
    "stock.to_csv('new_APPL.csv', index = False)"
   ]
  },
  {
   "cell_type": "code",
   "execution_count": 9,
   "id": "c8c08c42",
   "metadata": {},
   "outputs": [
    {
     "name": "stdout",
     "output_type": "stream",
     "text": [
      "<class 'pandas.core.frame.DataFrame'>\n",
      "RangeIndex: 10791 entries, 0 to 10790\n",
      "Data columns (total 8 columns):\n",
      " #   Column          Non-Null Count  Dtype  \n",
      "---  ------          --------------  -----  \n",
      " 0   Open            10791 non-null  float64\n",
      " 1   High            10791 non-null  float64\n",
      " 2   Low             10791 non-null  float64\n",
      " 3   Close           10791 non-null  float64\n",
      " 4   Day Difference  10791 non-null  float64\n",
      " 5   Adj Close       10791 non-null  float64\n",
      " 6   Volume          10791 non-null  float64\n",
      " 7   Year            10791 non-null  int16  \n",
      "dtypes: float64(7), int16(1)\n",
      "memory usage: 611.3 KB\n"
     ]
    }
   ],
   "source": [
    "stock.info()"
   ]
  },
  {
   "cell_type": "code",
   "execution_count": 10,
   "id": "3a7a2b97",
   "metadata": {},
   "outputs": [],
   "source": [
    "stock = pd.read_csv('new_APPL.csv')"
   ]
  },
  {
   "cell_type": "code",
   "execution_count": 11,
   "id": "7af2bddf",
   "metadata": {},
   "outputs": [
    {
     "data": {
      "text/html": [
       "<div>\n",
       "<style scoped>\n",
       "    .dataframe tbody tr th:only-of-type {\n",
       "        vertical-align: middle;\n",
       "    }\n",
       "\n",
       "    .dataframe tbody tr th {\n",
       "        vertical-align: top;\n",
       "    }\n",
       "\n",
       "    .dataframe thead th {\n",
       "        text-align: right;\n",
       "    }\n",
       "</style>\n",
       "<table border=\"1\" class=\"dataframe\">\n",
       "  <thead>\n",
       "    <tr style=\"text-align: right;\">\n",
       "      <th></th>\n",
       "      <th>Open</th>\n",
       "      <th>High</th>\n",
       "      <th>Low</th>\n",
       "      <th>Close</th>\n",
       "      <th>Day Difference</th>\n",
       "      <th>Adj Close</th>\n",
       "      <th>Volume</th>\n",
       "      <th>Year</th>\n",
       "    </tr>\n",
       "  </thead>\n",
       "  <tbody>\n",
       "    <tr>\n",
       "      <th>0</th>\n",
       "      <td>0.128348</td>\n",
       "      <td>0.128906</td>\n",
       "      <td>0.128348</td>\n",
       "      <td>0.128348</td>\n",
       "      <td>0.00000</td>\n",
       "      <td>0.099450</td>\n",
       "      <td>469033600.0</td>\n",
       "      <td>1980</td>\n",
       "    </tr>\n",
       "    <tr>\n",
       "      <th>1</th>\n",
       "      <td>0.122210</td>\n",
       "      <td>0.122210</td>\n",
       "      <td>0.121652</td>\n",
       "      <td>0.121652</td>\n",
       "      <td>-0.00056</td>\n",
       "      <td>0.094261</td>\n",
       "      <td>175884800.0</td>\n",
       "      <td>1980</td>\n",
       "    </tr>\n",
       "    <tr>\n",
       "      <th>2</th>\n",
       "      <td>0.113281</td>\n",
       "      <td>0.113281</td>\n",
       "      <td>0.112723</td>\n",
       "      <td>0.112723</td>\n",
       "      <td>-0.00056</td>\n",
       "      <td>0.087343</td>\n",
       "      <td>105728000.0</td>\n",
       "      <td>1980</td>\n",
       "    </tr>\n",
       "    <tr>\n",
       "      <th>3</th>\n",
       "      <td>0.115513</td>\n",
       "      <td>0.116071</td>\n",
       "      <td>0.115513</td>\n",
       "      <td>0.115513</td>\n",
       "      <td>0.00000</td>\n",
       "      <td>0.089504</td>\n",
       "      <td>86441600.0</td>\n",
       "      <td>1980</td>\n",
       "    </tr>\n",
       "    <tr>\n",
       "      <th>4</th>\n",
       "      <td>0.118862</td>\n",
       "      <td>0.119420</td>\n",
       "      <td>0.118862</td>\n",
       "      <td>0.118862</td>\n",
       "      <td>0.00000</td>\n",
       "      <td>0.092099</td>\n",
       "      <td>73449600.0</td>\n",
       "      <td>1980</td>\n",
       "    </tr>\n",
       "    <tr>\n",
       "      <th>...</th>\n",
       "      <td>...</td>\n",
       "      <td>...</td>\n",
       "      <td>...</td>\n",
       "      <td>...</td>\n",
       "      <td>...</td>\n",
       "      <td>...</td>\n",
       "      <td>...</td>\n",
       "      <td>...</td>\n",
       "    </tr>\n",
       "    <tr>\n",
       "      <th>10786</th>\n",
       "      <td>174.820007</td>\n",
       "      <td>175.199997</td>\n",
       "      <td>171.660004</td>\n",
       "      <td>171.960007</td>\n",
       "      <td>-2.86000</td>\n",
       "      <td>171.960007</td>\n",
       "      <td>64588900.0</td>\n",
       "      <td>2023</td>\n",
       "    </tr>\n",
       "    <tr>\n",
       "      <th>10787</th>\n",
       "      <td>172.619995</td>\n",
       "      <td>173.039993</td>\n",
       "      <td>169.050003</td>\n",
       "      <td>170.429993</td>\n",
       "      <td>-2.19000</td>\n",
       "      <td>170.429993</td>\n",
       "      <td>66921800.0</td>\n",
       "      <td>2023</td>\n",
       "    </tr>\n",
       "    <tr>\n",
       "      <th>10788</th>\n",
       "      <td>169.339996</td>\n",
       "      <td>172.029999</td>\n",
       "      <td>167.619995</td>\n",
       "      <td>170.690002</td>\n",
       "      <td>1.35001</td>\n",
       "      <td>170.690002</td>\n",
       "      <td>56294400.0</td>\n",
       "      <td>2023</td>\n",
       "    </tr>\n",
       "    <tr>\n",
       "      <th>10789</th>\n",
       "      <td>172.020004</td>\n",
       "      <td>173.070007</td>\n",
       "      <td>170.339996</td>\n",
       "      <td>171.210007</td>\n",
       "      <td>-0.81000</td>\n",
       "      <td>171.210007</td>\n",
       "      <td>51814200.0</td>\n",
       "      <td>2023</td>\n",
       "    </tr>\n",
       "    <tr>\n",
       "      <th>10790</th>\n",
       "      <td>171.220001</td>\n",
       "      <td>174.300003</td>\n",
       "      <td>170.929993</td>\n",
       "      <td>173.750000</td>\n",
       "      <td>2.53000</td>\n",
       "      <td>173.750000</td>\n",
       "      <td>52115400.0</td>\n",
       "      <td>2023</td>\n",
       "    </tr>\n",
       "  </tbody>\n",
       "</table>\n",
       "<p>10791 rows × 8 columns</p>\n",
       "</div>"
      ],
      "text/plain": [
       "             Open        High         Low       Close  Day Difference  \\\n",
       "0        0.128348    0.128906    0.128348    0.128348         0.00000   \n",
       "1        0.122210    0.122210    0.121652    0.121652        -0.00056   \n",
       "2        0.113281    0.113281    0.112723    0.112723        -0.00056   \n",
       "3        0.115513    0.116071    0.115513    0.115513         0.00000   \n",
       "4        0.118862    0.119420    0.118862    0.118862         0.00000   \n",
       "...           ...         ...         ...         ...             ...   \n",
       "10786  174.820007  175.199997  171.660004  171.960007        -2.86000   \n",
       "10787  172.619995  173.039993  169.050003  170.429993        -2.19000   \n",
       "10788  169.339996  172.029999  167.619995  170.690002         1.35001   \n",
       "10789  172.020004  173.070007  170.339996  171.210007        -0.81000   \n",
       "10790  171.220001  174.300003  170.929993  173.750000         2.53000   \n",
       "\n",
       "        Adj Close       Volume  Year  \n",
       "0        0.099450  469033600.0  1980  \n",
       "1        0.094261  175884800.0  1980  \n",
       "2        0.087343  105728000.0  1980  \n",
       "3        0.089504   86441600.0  1980  \n",
       "4        0.092099   73449600.0  1980  \n",
       "...           ...          ...   ...  \n",
       "10786  171.960007   64588900.0  2023  \n",
       "10787  170.429993   66921800.0  2023  \n",
       "10788  170.690002   56294400.0  2023  \n",
       "10789  171.210007   51814200.0  2023  \n",
       "10790  173.750000   52115400.0  2023  \n",
       "\n",
       "[10791 rows x 8 columns]"
      ]
     },
     "execution_count": 11,
     "metadata": {},
     "output_type": "execute_result"
    }
   ],
   "source": [
    "stock"
   ]
  },
  {
   "cell_type": "code",
   "execution_count": 12,
   "id": "e142f65a",
   "metadata": {},
   "outputs": [
    {
     "name": "stdout",
     "output_type": "stream",
     "text": [
      "<class 'pandas.core.frame.DataFrame'>\n",
      "RangeIndex: 10791 entries, 0 to 10790\n",
      "Data columns (total 8 columns):\n",
      " #   Column          Non-Null Count  Dtype  \n",
      "---  ------          --------------  -----  \n",
      " 0   Open            10791 non-null  float64\n",
      " 1   High            10791 non-null  float64\n",
      " 2   Low             10791 non-null  float64\n",
      " 3   Close           10791 non-null  float64\n",
      " 4   Day Difference  10791 non-null  float64\n",
      " 5   Adj Close       10791 non-null  float64\n",
      " 6   Volume          10791 non-null  float64\n",
      " 7   Year            10791 non-null  int64  \n",
      "dtypes: float64(7), int64(1)\n",
      "memory usage: 674.6 KB\n"
     ]
    }
   ],
   "source": [
    "stock.info()"
   ]
  },
  {
   "cell_type": "markdown",
   "id": "376a7e25",
   "metadata": {},
   "source": [
    "**1) Heatmap**"
   ]
  },
  {
   "cell_type": "code",
   "execution_count": 13,
   "id": "ce6a41b9",
   "metadata": {},
   "outputs": [
    {
     "data": {
      "image/png": "[encoded data removed]",
      "text/plain": [
       "<Figure size 432x288 with 2 Axes>"
      ]
     },
     "metadata": {
      "needs_background": "light"
     },
     "output_type": "display_data"
    }
   ],
   "source": [
    "sns.heatmap(stock.corr(), annot=True, cmap='coolwarm')\n",
    "plt.title('Correlation Plot')\n",
    "plt.show()"
   ]
  },
  {
   "cell_type": "code",
   "execution_count": 14,
   "id": "2be7f2f1",
   "metadata": {},
   "outputs": [
    {
     "data": {
      "text/plain": [
       "Index(['Open', 'High', 'Low', 'Close', 'Day Difference', 'Adj Close', 'Volume',\n",
       "       'Year'],\n",
       "      dtype='object')"
      ]
     },
     "execution_count": 14,
     "metadata": {},
     "output_type": "execute_result"
    }
   ],
   "source": [
    "stock.columns"
   ]
  },
  {
   "cell_type": "code",
   "execution_count": 15,
   "id": "07005a72",
   "metadata": {},
   "outputs": [
    {
     "data": {
      "text/plain": [
       "(10791, 8)"
      ]
     },
     "execution_count": 15,
     "metadata": {},
     "output_type": "execute_result"
    }
   ],
   "source": [
    "stock.shape"
   ]
  },
  {
   "cell_type": "code",
   "execution_count": 16,
   "id": "84af30f4",
   "metadata": {},
   "outputs": [
    {
     "name": "stdout",
     "output_type": "stream",
     "text": [
      "<class 'pandas.core.frame.DataFrame'>\n",
      "RangeIndex: 10791 entries, 0 to 10790\n",
      "Data columns (total 8 columns):\n",
      " #   Column          Non-Null Count  Dtype  \n",
      "---  ------          --------------  -----  \n",
      " 0   Open            10791 non-null  float64\n",
      " 1   High            10791 non-null  float64\n",
      " 2   Low             10791 non-null  float64\n",
      " 3   Close           10791 non-null  float64\n",
      " 4   Day Difference  10791 non-null  float64\n",
      " 5   Adj Close       10791 non-null  float64\n",
      " 6   Volume          10791 non-null  float64\n",
      " 7   Year            10791 non-null  int64  \n",
      "dtypes: float64(7), int64(1)\n",
      "memory usage: 674.6 KB\n"
     ]
    }
   ],
   "source": [
    "stock.info()"
   ]
  },
  {
   "cell_type": "code",
   "execution_count": 17,
   "id": "347d523e",
   "metadata": {},
   "outputs": [
    {
     "data": {
      "text/plain": [
       "Open              0\n",
       "High              0\n",
       "Low               0\n",
       "Close             0\n",
       "Day Difference    0\n",
       "Adj Close         0\n",
       "Volume            0\n",
       "Year              0\n",
       "dtype: int64"
      ]
     },
     "execution_count": 17,
     "metadata": {},
     "output_type": "execute_result"
    }
   ],
   "source": [
    "stock.isnull().sum() # tells you the num of null values per column"
   ]
  },
  {
   "cell_type": "code",
   "execution_count": 18,
   "id": "747eb8a8",
   "metadata": {},
   "outputs": [
    {
     "data": {
      "text/plain": [
       " 0.00000    727\n",
       "-0.00223    276\n",
       "-0.00056    272\n",
       " 0.00223    254\n",
       "-0.00112    226\n",
       "           ... \n",
       "-0.63250      1\n",
       " 0.11071      1\n",
       "-0.19071      1\n",
       " 0.32893      1\n",
       "-0.81000      1\n",
       "Name: Day Difference, Length: 2645, dtype: int64"
      ]
     },
     "execution_count": 18,
     "metadata": {},
     "output_type": "execute_result"
    }
   ],
   "source": [
    "stock['Day Difference'].value_counts()"
   ]
  },
  {
   "cell_type": "markdown",
   "id": "0e56e739",
   "metadata": {},
   "source": [
    "**2) Time Series**"
   ]
  },
  {
   "cell_type": "code",
   "execution_count": 19,
   "id": "a0ada448",
   "metadata": {},
   "outputs": [
    {
     "data": {
      "image/png": "[encoded data removed]",
      "text/plain": [
       "<Figure size 1080x504 with 1 Axes>"
      ]
     },
     "metadata": {
      "needs_background": "light"
     },
     "output_type": "display_data"
    }
   ],
   "source": [
    "plt.figure(figsize=(15, 7))\n",
    "sns.lineplot(x=stock.index, y=stock['Open'], label='Open Price', color='blue')\n",
    "plt.title('Historical Apple Stock Opening Prices')\n",
    "plt.xlabel('Date')\n",
    "plt.ylabel('Opening Price')\n",
    "plt.legend()\n",
    "plt.grid(True)\n",
    "plt.show()"
   ]
  },
  {
   "cell_type": "markdown",
   "id": "ff38e069",
   "metadata": {},
   "source": [
    "**3) Barplot**"
   ]
  },
  {
   "cell_type": "code",
   "execution_count": 20,
   "id": "ebd21cee",
   "metadata": {},
   "outputs": [
    {
     "data": {
      "image/png": "[encoded data removed]",
      "text/plain": [
       "<Figure size 1080x504 with 1 Axes>"
      ]
     },
     "metadata": {
      "needs_background": "light"
     },
     "output_type": "display_data"
    }
   ],
   "source": [
    "plt.figure(figsize=(15, 7))\n",
    "plt.bar(stock.index, stock['High'] - stock['Low'], color='blue')\n",
    "plt.title('Daily High-Low Range of Apple Stock')\n",
    "plt.xlabel('Date')\n",
    "plt.ylabel('High-Low Range (USD)')\n",
    "plt.show()\n"
   ]
  },
  {
   "cell_type": "markdown",
   "id": "3d4f866d",
   "metadata": {},
   "source": [
    "**4) KDE Plot**"
   ]
  },
  {
   "cell_type": "code",
   "execution_count": 21,
   "id": "77a75be6",
   "metadata": {},
   "outputs": [
    {
     "data": {
      "image/png": "[encoded data removed]",
      "text/plain": [
       "<Figure size 864x432 with 1 Axes>"
      ]
     },
     "metadata": {
      "needs_background": "light"
     },
     "output_type": "display_data"
    }
   ],
   "source": [
    "plt.figure(figsize=(12, 6))\n",
    "sns.kdeplot(stock['Close'], fill=True, color='orange')\n",
    "plt.title('Kernel Density Estimate (KDE) of Closing Price')\n",
    "plt.xlabel('Closing Price')\n",
    "plt.ylabel('Density')\n",
    "plt.show()"
   ]
  },
  {
   "cell_type": "code",
   "execution_count": 22,
   "id": "ff3eafd4",
   "metadata": {},
   "outputs": [],
   "source": [
    "from sklearn.model_selection import train_test_split\n",
    "from sklearn.linear_model import LinearRegression\n",
    "from sklearn.metrics import r2_score, mean_squared_error, mean_absolute_error"
   ]
  },
  {
   "cell_type": "code",
   "execution_count": 23,
   "id": "f475af36",
   "metadata": {},
   "outputs": [],
   "source": [
    "X = stock[['Open', 'High', 'Low', 'Volume', 'Year']]\n",
    "y = stock['Close']\n",
    "\n",
    "# Splitting the dataset into 0.7 training and 0.3 test sets\n",
    "X_train, X_test, y_train, y_test = train_test_split(X,y, test_size = 0.30, random_state=2)"
   ]
  },
  {
   "cell_type": "code",
   "execution_count": 24,
   "id": "78e78cfd",
   "metadata": {},
   "outputs": [
    {
     "data": {
      "text/plain": [
       "LinearRegression()"
      ]
     },
     "execution_count": 24,
     "metadata": {},
     "output_type": "execute_result"
    }
   ],
   "source": [
    "LR = LinearRegression() # create linear regression model\n",
    "\n",
    "LR.fit(X_train, y_train) # train model"
   ]
  },
  {
   "cell_type": "code",
   "execution_count": 25,
   "id": "d1fb96e0",
   "metadata": {},
   "outputs": [],
   "source": [
    "y_predict = LR.predict(X_test) # make predictions on the test set"
   ]
  },
  {
   "cell_type": "code",
   "execution_count": 26,
   "id": "5372211c",
   "metadata": {},
   "outputs": [
    {
     "name": "stdout",
     "output_type": "stream",
     "text": [
      "Coefficients [-6.84067995e-01  8.33169331e-01  8.50978080e-01 -2.62012634e-13\n",
      "  4.72820396e-04]\n"
     ]
    }
   ],
   "source": [
    "coefficients = LR.coef_\n",
    "print(f'Coefficients {coefficients}')"
   ]
  },
  {
   "cell_type": "code",
   "execution_count": 27,
   "id": "1474cb84",
   "metadata": {},
   "outputs": [
    {
     "name": "stdout",
     "output_type": "stream",
     "text": [
      "Intercept: -0.9413317950647553\n"
     ]
    }
   ],
   "source": [
    "intercept = LR.intercept_\n",
    "print(f'Intercept: {intercept}')"
   ]
  },
  {
   "cell_type": "code",
   "execution_count": 28,
   "id": "3c9ecd01",
   "metadata": {},
   "outputs": [],
   "source": [
    "# see actual vs predictions\n",
    "df = pd.DataFrame({'Actual': y_test, 'Predicted': y_predict})"
   ]
  },
  {
   "cell_type": "code",
   "execution_count": 29,
   "id": "5c428c05",
   "metadata": {},
   "outputs": [
    {
     "data": {
      "text/html": [
       "<div>\n",
       "<style scoped>\n",
       "    .dataframe tbody tr th:only-of-type {\n",
       "        vertical-align: middle;\n",
       "    }\n",
       "\n",
       "    .dataframe tbody tr th {\n",
       "        vertical-align: top;\n",
       "    }\n",
       "\n",
       "    .dataframe thead th {\n",
       "        text-align: right;\n",
       "    }\n",
       "</style>\n",
       "<table border=\"1\" class=\"dataframe\">\n",
       "  <thead>\n",
       "    <tr style=\"text-align: right;\">\n",
       "      <th></th>\n",
       "      <th>Actual</th>\n",
       "      <th>Predicted</th>\n",
       "    </tr>\n",
       "  </thead>\n",
       "  <tbody>\n",
       "    <tr>\n",
       "      <th>3667</th>\n",
       "      <td>0.389509</td>\n",
       "      <td>0.390491</td>\n",
       "    </tr>\n",
       "    <tr>\n",
       "      <th>2417</th>\n",
       "      <td>0.399554</td>\n",
       "      <td>0.397209</td>\n",
       "    </tr>\n",
       "    <tr>\n",
       "      <th>4364</th>\n",
       "      <td>0.238839</td>\n",
       "      <td>0.241386</td>\n",
       "    </tr>\n",
       "    <tr>\n",
       "      <th>8627</th>\n",
       "      <td>32.115002</td>\n",
       "      <td>32.258216</td>\n",
       "    </tr>\n",
       "    <tr>\n",
       "      <th>7338</th>\n",
       "      <td>7.523214</td>\n",
       "      <td>7.409872</td>\n",
       "    </tr>\n",
       "    <tr>\n",
       "      <th>7923</th>\n",
       "      <td>20.327856</td>\n",
       "      <td>20.362874</td>\n",
       "    </tr>\n",
       "    <tr>\n",
       "      <th>7391</th>\n",
       "      <td>8.392857</td>\n",
       "      <td>8.421972</td>\n",
       "    </tr>\n",
       "    <tr>\n",
       "      <th>460</th>\n",
       "      <td>0.104911</td>\n",
       "      <td>0.099424</td>\n",
       "    </tr>\n",
       "    <tr>\n",
       "      <th>3454</th>\n",
       "      <td>0.306362</td>\n",
       "      <td>0.310881</td>\n",
       "    </tr>\n",
       "    <tr>\n",
       "      <th>2279</th>\n",
       "      <td>0.310268</td>\n",
       "      <td>0.309689</td>\n",
       "    </tr>\n",
       "    <tr>\n",
       "      <th>10361</th>\n",
       "      <td>173.070007</td>\n",
       "      <td>173.188484</td>\n",
       "    </tr>\n",
       "    <tr>\n",
       "      <th>4739</th>\n",
       "      <td>0.694754</td>\n",
       "      <td>0.698811</td>\n",
       "    </tr>\n",
       "    <tr>\n",
       "      <th>9325</th>\n",
       "      <td>42.450001</td>\n",
       "      <td>42.558577</td>\n",
       "    </tr>\n",
       "    <tr>\n",
       "      <th>5047</th>\n",
       "      <td>0.294643</td>\n",
       "      <td>0.298213</td>\n",
       "    </tr>\n",
       "    <tr>\n",
       "      <th>1105</th>\n",
       "      <td>0.097656</td>\n",
       "      <td>0.097257</td>\n",
       "    </tr>\n",
       "    <tr>\n",
       "      <th>937</th>\n",
       "      <td>0.124442</td>\n",
       "      <td>0.119440</td>\n",
       "    </tr>\n",
       "    <tr>\n",
       "      <th>4369</th>\n",
       "      <td>0.237165</td>\n",
       "      <td>0.241654</td>\n",
       "    </tr>\n",
       "    <tr>\n",
       "      <th>10109</th>\n",
       "      <td>127.139999</td>\n",
       "      <td>128.489461</td>\n",
       "    </tr>\n",
       "    <tr>\n",
       "      <th>6516</th>\n",
       "      <td>2.650714</td>\n",
       "      <td>2.665001</td>\n",
       "    </tr>\n",
       "    <tr>\n",
       "      <th>1924</th>\n",
       "      <td>0.381696</td>\n",
       "      <td>0.380255</td>\n",
       "    </tr>\n",
       "  </tbody>\n",
       "</table>\n",
       "</div>"
      ],
      "text/plain": [
       "           Actual   Predicted\n",
       "3667     0.389509    0.390491\n",
       "2417     0.399554    0.397209\n",
       "4364     0.238839    0.241386\n",
       "8627    32.115002   32.258216\n",
       "7338     7.523214    7.409872\n",
       "7923    20.327856   20.362874\n",
       "7391     8.392857    8.421972\n",
       "460      0.104911    0.099424\n",
       "3454     0.306362    0.310881\n",
       "2279     0.310268    0.309689\n",
       "10361  173.070007  173.188484\n",
       "4739     0.694754    0.698811\n",
       "9325    42.450001   42.558577\n",
       "5047     0.294643    0.298213\n",
       "1105     0.097656    0.097257\n",
       "937      0.124442    0.119440\n",
       "4369     0.237165    0.241654\n",
       "10109  127.139999  128.489461\n",
       "6516     2.650714    2.665001\n",
       "1924     0.381696    0.380255"
      ]
     },
     "execution_count": 29,
     "metadata": {},
     "output_type": "execute_result"
    }
   ],
   "source": [
    "df.head(20) # see first 20"
   ]
  },
  {
   "cell_type": "code",
   "execution_count": 30,
   "id": "decb80cc",
   "metadata": {},
   "outputs": [
    {
     "name": "stdout",
     "output_type": "stream",
     "text": [
      "R-Squared: 0.999943868177901\n"
     ]
    }
   ],
   "source": [
    "r2 = r2_score(y_test, y_predict) # accuracy score\n",
    "print(f'R-Squared: {r2}') "
   ]
  },
  {
   "cell_type": "code",
   "execution_count": 31,
   "id": "7eee44da",
   "metadata": {},
   "outputs": [
    {
     "name": "stdout",
     "output_type": "stream",
     "text": [
      "Mean Squared Error: 0.0983650851728614\n"
     ]
    }
   ],
   "source": [
    "mse = mean_squared_error(y_test, y_predict)\n",
    "print(f'Mean Squared Error: {mse}')"
   ]
  },
  {
   "cell_type": "code",
   "execution_count": 32,
   "id": "c1f7c9d1",
   "metadata": {},
   "outputs": [
    {
     "name": "stdout",
     "output_type": "stream",
     "text": [
      "Root Mean Squared Error: 0.3136320856877711\n"
     ]
    }
   ],
   "source": [
    "rmse = mean_squared_error(y_test, y_predict, squared=False) # squared is set to False to return rmse instead of mse\n",
    "print(f'Root Mean Squared Error: {rmse}')"
   ]
  },
  {
   "cell_type": "code",
   "execution_count": 33,
   "id": "a3997ba4",
   "metadata": {},
   "outputs": [
    {
     "name": "stdout",
     "output_type": "stream",
     "text": [
      "Mean Absolute Error: 0.09691656008644736\n"
     ]
    }
   ],
   "source": [
    "mae = mean_absolute_error(y_test, y_predict)\n",
    "print(f'Mean Absolute Error: {mae}')"
   ]
  },
  {
   "cell_type": "code",
   "execution_count": 34,
   "id": "3a1ee19e",
   "metadata": {},
   "outputs": [],
   "source": [
    "# export the model as pickle\n",
    "import pickle\n",
    "\n",
    "with open('apple_prediction_model.pkl', 'wb') as f:\n",
    "    pickle.dump(LR, f)"
   ]
  }
 ],
 "metadata": {
  "kernelspec": {
   "display_name": "Python 3 (ipykernel)",
   "language": "python",
   "name": "python3"
  },
  "language_info": {
   "codemirror_mode": {
    "name": "ipython",
    "version": 3
   },
   "file_extension": ".py",
   "mimetype": "text/x-python",
   "name": "python",
   "nbconvert_exporter": "python",
   "pygments_lexer": "ipython3",
   "version": "3.9.7"
  }
 },
 "nbformat": 4,
 "nbformat_minor": 5
}
